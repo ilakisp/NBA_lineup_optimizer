{
 "cells": [
  {
   "cell_type": "code",
   "execution_count": null,
   "metadata": {},
   "outputs": [],
   "source": [
    "def send_email(*args):\n",
    "    from email.mime.text import MIMEText\n",
    "    from email.mime.application import MIMEApplication\n",
    "    from email.mime.multipart import MIMEMultipart\n",
    "    from smtplib import SMTP\n",
    "    import smtplib\n",
    "    import sys\n",
    "\n",
    "    recipients = [''] # Define own\n",
    "    msg = MIMEMultipart()\n",
    "    msg['Subject'] = 'DF Output'\n",
    "    msg['From'] = '' # Define own\n",
    "\n",
    "    texts = ['\\nTable1: optimal lineup for the day:\\n',\n",
    "            'Table2: baseline lineup for the day:\\n',\n",
    "            'Table3: review data controls:']\n",
    "    \n",
    "    for arg_no, arg in enumerate(args):\n",
    "        msg.attach(MIMEText(texts[arg_no], 'plain'))\n",
    "        msg.attach(MIMEText(arg.to_html(), 'html'))\n",
    "                \n",
    "    server = smtplib.SMTP('smtp.gmail.com', 587)\n",
    "    server.starttls() \n",
    "    server.login(\"\", \"\") # Define own\n",
    "    server.sendmail(msg['From'], recipients, msg.as_string())\n",
    "    server.quit()\n",
    "    print ('email sent successfully')"
   ]
  }
 ],
 "metadata": {
  "kernelspec": {
   "display_name": "Python 3",
   "language": "python",
   "name": "python3"
  },
  "language_info": {
   "codemirror_mode": {
    "name": "ipython",
    "version": 3
   },
   "file_extension": ".py",
   "mimetype": "text/x-python",
   "name": "python",
   "nbconvert_exporter": "python",
   "pygments_lexer": "ipython3",
   "version": "3.7.3"
  }
 },
 "nbformat": 4,
 "nbformat_minor": 2
}
