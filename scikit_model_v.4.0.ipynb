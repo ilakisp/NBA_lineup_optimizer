{
 "cells": [
  {
   "cell_type": "markdown",
   "metadata": {},
   "source": [
    "## Create training/testing model"
   ]
  },
  {
   "cell_type": "code",
   "execution_count": null,
   "metadata": {},
   "outputs": [],
   "source": [
    "def modelling():\n",
    "    connection_2018 = sqlite3.connect('/NBA_db_2018_19.db') # Define own folder\n",
    "    data_model_df = pd.read_sql_query(\"SELECT * FROM modelling_data\", connection_2018).iloc[:,2:]\n",
    "    \n",
    "    # Define type of estimator used in modelling\n",
    "    estimators = ['RandomForestRegressor']\n",
    "    types = ['train', 'test']\n",
    "    coefficients = ['rmse', 'r2']\n",
    "    \n",
    "    # Create an empty table (estimators vs types)\n",
    "    rmse_names = [x + '_' + y for y in types for x in estimators] \n",
    "    df_rmse = pd.DataFrame([[0.0] * 2 for j in range(len(rmse_names))], index = rmse_names, columns = coefficients)\n",
    "\n",
    "    # Data preparation to put into scikit. Depended variable y and Independent variables, attributes, X\n",
    "    y = data_model_df['DF_PTS']    \n",
    "    X = data_model_df[learning_attributes].values\n",
    "    min_max_scaler = preprocessing.MinMaxScaler()\n",
    "    x_scaled = min_max_scaler.fit_transform(X)\n",
    "    X = pd.DataFrame(x_scaled, columns=learning_attributes)\n",
    "\n",
    "    X_train, X_test, y_train, y_test = train_test_split(X, y, test_size = 0.2, random_state=42)    \n",
    "    print ('Data shapes. X_train: {}, y_train: {}, X_test: {}, y_test: {}'.format(\n",
    "        X_train.shape, y_train.shape, X_test.shape, y_test.shape))\n",
    "    \n",
    "    # Training the model. Currently only with Rand. Forest, but left flexibility for additional types\n",
    "    for i in range(len(estimators)):\n",
    "        est = estimators[i]\n",
    "        if(est == 'RandomForestRegressor'):\n",
    "            n_estimators = [100]\n",
    "            param_grid = {'n_estimators': n_estimators}\n",
    "            rf = GridSearchCV(RandomForestRegressor(max_depth=7), param_grid, cv=5)\n",
    "            rf.fit(X_train, y_train) \n",
    "        \n",
    "    #Calculating statistical significance\n",
    "    train_rmse = np.sqrt(np.mean((y_train - rf.predict(X_train))**2.0 ))\n",
    "    test_rmse = np.sqrt(np.mean((y_test - rf.predict(X_test))**2.0 ))\n",
    "    train_r2  = r2_score(y_train, rf.predict(X_train))\n",
    "    test_r2 = r2_score(y_test, rf.predict(X_test))\n",
    "\n",
    "    # Adding above calculated measures into the created empty table\n",
    "    for val in types:\n",
    "        for coef in coefficients:\n",
    "            df_rmse.loc[estimators[i] + '_' + val, coef] = eval(val + '_' + coef)  \n",
    "    print ('Model performance: {}'.format(df_rmse))   \n",
    "        \n",
    "    # Save the trained model\n",
    "    Nba_model_pickle = '' # Define own folder\n",
    "    pickle.dump(rf, open(Nba_model_pickle, 'wb'))"
   ]
  }
 ],
 "metadata": {
  "kernelspec": {
   "display_name": "Python 3",
   "language": "python",
   "name": "python3"
  },
  "language_info": {
   "codemirror_mode": {
    "name": "ipython",
    "version": 3
   },
   "file_extension": ".py",
   "mimetype": "text/x-python",
   "name": "python",
   "nbconvert_exporter": "python",
   "pygments_lexer": "ipython3",
   "version": "3.7.3"
  }
 },
 "nbformat": 4,
 "nbformat_minor": 2
}
